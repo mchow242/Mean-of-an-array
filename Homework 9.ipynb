{
 "cells": [
  {
   "cell_type": "code",
   "execution_count": 35,
   "id": "acc99192-b385-44f9-8287-6d677d643f1f",
   "metadata": {},
   "outputs": [
    {
     "name": "stdin",
     "output_type": "stream",
     "text": [
      "number 1:  5\n",
      "number 2:  3.14\n",
      "number 3:  1.23\n",
      "number 4:  100\n",
      "number 5:  0.01\n"
     ]
    },
    {
     "name": "stdout",
     "output_type": "stream",
     "text": [
      "The mean of [5.0, 3.14, 1.23, 100.0, 0.01] is 21.88\n"
     ]
    }
   ],
   "source": [
    "def main():\n",
    "    # Ask the user to enter 5 numbers\n",
    "    numbers = []\n",
    "    for i in range(1, 6):\n",
    "        number = float(input(f\"number {i}: \"))\n",
    "        numbers.append(number)\n",
    "\n",
    "    # Calculate the arithmetic mean\n",
    "    total = 0\n",
    "    for num in numbers:\n",
    "        total += num\n",
    "    mean = total / len(numbers)\n",
    "\n",
    "    # Print the result\n",
    "    print(f\"The mean of {numbers} is {mean:.2f}\")\n",
    "\n",
    "if __name__ == \"__main__\":\n",
    "    main()\n"
   ]
  },
  {
   "cell_type": "code",
   "execution_count": null,
   "id": "604a657b-abd6-44b3-911c-5e42255a3987",
   "metadata": {},
   "outputs": [],
   "source": []
  }
 ],
 "metadata": {
  "kernelspec": {
   "display_name": "anaconda-panel-2023.05-py310",
   "language": "python",
   "name": "conda-env-anaconda-panel-2023.05-py310-py"
  },
  "language_info": {
   "codemirror_mode": {
    "name": "ipython",
    "version": 3
   },
   "file_extension": ".py",
   "mimetype": "text/x-python",
   "name": "python",
   "nbconvert_exporter": "python",
   "pygments_lexer": "ipython3",
   "version": "3.11.5"
  }
 },
 "nbformat": 4,
 "nbformat_minor": 5
}
